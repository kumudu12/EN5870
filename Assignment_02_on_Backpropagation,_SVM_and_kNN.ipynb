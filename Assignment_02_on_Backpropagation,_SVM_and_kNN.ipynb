{
  "nbformat": 4,
  "nbformat_minor": 0,
  "metadata": {
    "colab": {
      "provenance": [],
      "authorship_tag": "ABX9TyNiB1H2rTpUSqTGifVuLk/S",
      "include_colab_link": true
    },
    "kernelspec": {
      "name": "python3",
      "display_name": "Python 3"
    },
    "language_info": {
      "name": "python"
    }
  },
  "cells": [
    {
      "cell_type": "markdown",
      "metadata": {
        "id": "view-in-github",
        "colab_type": "text"
      },
      "source": [
        "<a href=\"https://colab.research.google.com/github/kumudu12/EN5870/blob/main/Assignment_02_on_Backpropagation%2C_SVM_and_kNN.ipynb\" target=\"_parent\"><img src=\"https://colab.research.google.com/assets/colab-badge.svg\" alt=\"Open In Colab\"/></a>"
      ]
    },
    {
      "cell_type": "markdown",
      "source": [
        "1. Stating form x1,1 = 5 and x1,2 = 4 run two iterations of gradient descent with a\n",
        "learning rate of 0.1. Initialize weights w1 = w2 = 0 and take true output yi = 5\n",
        "and b = 1. Here, activation function f () is tanh, where f (t) =\n",
        "exp(t)−exp(−t)\n",
        "exp(t)+exp(−t)\n",
        ".\n",
        "What are the values of the w1 and w2 after two iterations"
      ],
      "metadata": {
        "id": "X-v8jQ39Iaae"
      }
    },
    {
      "cell_type": "markdown",
      "source": [
        "2. Linear regression is a supervised learning technique used to model the relation\u0002ship between a set of input features (X) and a target variable (y). Perform linear regression to learn parameters (weight vector) for the given data set."
      ],
      "metadata": {
        "id": "Omzpi_CLIPr1"
      }
    },
    {
      "cell_type": "code",
      "execution_count": 5,
      "metadata": {
        "id": "MXF0WjOZHsxv",
        "colab": {
          "base_uri": "https://localhost:8080/"
        },
        "outputId": "d162ea3d-b064-4cc2-932c-f5e499fcc182"
      },
      "outputs": [
        {
          "output_type": "stream",
          "name": "stdout",
          "text": [
            "Coefficients:   [0.0955414  0.01571125]\n",
            "Mean squared error: 0.05\n",
            "Coefficient of determination: 0.78\n"
          ]
        }
      ],
      "source": [
        "import numpy as np\n",
        "import matplotlib.pyplot as plt\n",
        "from sklearn.preprocessing import StandardScaler\n",
        "from sklearn.svm import SVC\n",
        "from sklearn.metrics import accuracy_score\n",
        "from sklearn import linear_model, datasets\n",
        "from sklearn.metrics import mean_squared_error, r2_score\n",
        "\n",
        "# Data generation\n",
        "X_train = np.array([[1, 50], [5, 20], [3, 80], [5, 60], [6, 90]]).astype(np.float64)\n",
        "y_train = np.array([0, 0, 1, 1, 1])\n",
        "X_test = np.array ([[1 , 40], [5, 10], [2, 60], [6, 65], [7, 50]]).astype(np.float64)\n",
        "y_test = np.array ([0, 0, 0, 1, 1])\n",
        "\n",
        "\n",
        "#Create linear regression object\n",
        "regr = linear_model.LinearRegression()\n",
        "\n",
        "#Train the model using the training sets\n",
        "regr.fit(X_train, y_train)\n",
        "\n",
        "#Make predictions using the testing set\n",
        "y_pred = regr.predict(X_test)\n",
        "\n",
        "#The coeffcients\n",
        "print(\"Coefficients:  \", regr.coef_)\n",
        "#The mean squared error\n",
        "print(\"Mean squared error: %.2f\" %mean_squared_error(y_test, y_pred))\n",
        "#The coefficient of determination: 1 is perfect prediction\n",
        "print(\"Coefficient of determination: %.2f\" % r2_score(y_test, y_pred))\n",
        "\n",
        "#Plot outputs\n",
        "#plt.scatter(X_test, y_test, color=\"black\")\n",
        "#plt.plot(X_test, y_pred, color=\"blue\", linewidth=3)\n",
        "\n",
        "#plt.xticks(())\n",
        "#plt.yticks(())\n",
        "\n",
        "#plt.show()"
      ]
    },
    {
      "cell_type": "markdown",
      "source": [
        "3.  Train SVM classifier using the training data and predict the output for the testing\n",
        "data (you may use clf = SVC(kernel=’linear’, random_state=42)\n",
        "clf.fit(X_train, y_train)). What is the accuracy of the model?"
      ],
      "metadata": {
        "id": "armEmnCVRjRj"
      }
    },
    {
      "cell_type": "code",
      "source": [],
      "metadata": {
        "id": "_p8S2XSARoZL"
      },
      "execution_count": null,
      "outputs": []
    }
  ]
}