{
  "nbformat": 4,
  "nbformat_minor": 0,
  "metadata": {
    "colab": {
      "provenance": [],
      "authorship_tag": "ABX9TyMyfXm+Py5fVJ1dtDgS3DBj",
      "include_colab_link": true
    },
    "kernelspec": {
      "name": "python3",
      "display_name": "Python 3"
    },
    "language_info": {
      "name": "python"
    }
  },
  "cells": [
    {
      "cell_type": "markdown",
      "metadata": {
        "id": "view-in-github",
        "colab_type": "text"
      },
      "source": [
        "<a href=\"https://colab.research.google.com/github/kumudu12/EN5870/blob/main/Assignment_02_on_Backpropagation%2C_SVM_and_kNN.ipynb\" target=\"_parent\"><img src=\"https://colab.research.google.com/assets/colab-badge.svg\" alt=\"Open In Colab\"/></a>"
      ]
    },
    {
      "cell_type": "markdown",
      "source": [
        "1. Stating form x1,1 = 5 and x1,2 = 4 run two iterations of gradient descent with a\n",
        "learning rate of 0.1. Initialize weights w1 = w2 = 0 and take true output yi = 5\n",
        "and b = 1. Here, activation function f () is tanh, where f (t) =\n",
        "exp(t)−exp(−t)\n",
        "exp(t)+exp(−t)\n",
        ".\n",
        "What are the values of the w1 and w2 after two iterations"
      ],
      "metadata": {
        "id": "X-v8jQ39Iaae"
      }
    },
    {
      "cell_type": "markdown",
      "source": [
        "2. Linear regression is a supervised learning technique used to model the relation\u0002ship between a set of input features (X) and a target variable (y). Perform linear regression to learn parameters (weight vector) for the given data set."
      ],
      "metadata": {
        "id": "Omzpi_CLIPr1"
      }
    },
    {
      "cell_type": "code",
      "execution_count": null,
      "metadata": {
        "id": "MXF0WjOZHsxv"
      },
      "outputs": [],
      "source": []
    }
  ]
}