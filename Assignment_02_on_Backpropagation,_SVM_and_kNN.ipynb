{
  "nbformat": 4,
  "nbformat_minor": 0,
  "metadata": {
    "colab": {
      "provenance": [],
      "authorship_tag": "ABX9TyPENOKcRZGymBDj0x3CVlOq",
      "include_colab_link": true
    },
    "kernelspec": {
      "name": "python3",
      "display_name": "Python 3"
    },
    "language_info": {
      "name": "python"
    }
  },
  "cells": [
    {
      "cell_type": "markdown",
      "metadata": {
        "id": "view-in-github",
        "colab_type": "text"
      },
      "source": [
        "<a href=\"https://colab.research.google.com/github/kumudu12/EN5870/blob/main/Assignment_02_on_Backpropagation%2C_SVM_and_kNN.ipynb\" target=\"_parent\"><img src=\"https://colab.research.google.com/assets/colab-badge.svg\" alt=\"Open In Colab\"/></a>"
      ]
    },
    {
      "cell_type": "markdown",
      "source": [
        "1. Stating form x1,1 = 5 and x1,2 = 4 run two iterations of gradient descent with a\n",
        "learning rate of 0.1. Initialize weights w1 = w2 = 0 and take true output yi = 5\n",
        "and b = 1. Here, activation function f () is tanh, where f (t) =\n",
        "exp(t)−exp(−t)\n",
        "exp(t)+exp(−t)\n",
        ".\n",
        "What are the values of the w1 and w2 after two iterations"
      ],
      "metadata": {
        "id": "X-v8jQ39Iaae"
      }
    },
    {
      "cell_type": "markdown",
      "source": [
        "2. Linear regression is a supervised learning technique used to model the relation\u0002ship between a set of input features (X) and a target variable (y). Perform linear regression to learn parameters (weight vector) for the given data set."
      ],
      "metadata": {
        "id": "Omzpi_CLIPr1"
      }
    },
    {
      "cell_type": "code",
      "execution_count": 2,
      "metadata": {
        "id": "MXF0WjOZHsxv",
        "colab": {
          "base_uri": "https://localhost:8080/"
        },
        "outputId": "040efe4d-94b1-40bb-87d1-e99f71022cc3"
      },
      "outputs": [
        {
          "output_type": "stream",
          "name": "stdout",
          "text": [
            "Coefficients:   [0.0955414  0.01571125]\n",
            "Mean squared error: 0.05\n",
            "Coefficient of determination: 0.78\n"
          ]
        }
      ],
      "source": [
        "import numpy as np\n",
        "import matplotlib.pyplot as plt\n",
        "from sklearn.preprocessing import StandardScaler\n",
        "from sklearn.svm import SVC\n",
        "from sklearn.metrics import accuracy_score\n",
        "from sklearn import linear_model, datasets\n",
        "from sklearn.metrics import mean_squared_error, r2_score\n",
        "\n",
        "# Data generation\n",
        "X_train = np.array([[1, 50], [5, 20], [3, 80], [5, 60], [6, 90]]).astype(np.float64)\n",
        "y_train = np.array([0, 0, 1, 1, 1])\n",
        "X_test = np.array ([[1 , 40], [5, 10], [2, 60], [6, 65], [7, 50]]).astype(np.float64)\n",
        "y_test = np.array ([0, 0, 0, 1, 1])\n",
        "\n",
        "\n",
        "#Create linear regression object\n",
        "regr = linear_model.LinearRegression()\n",
        "\n",
        "#Train the model using the training sets\n",
        "regr.fit(X_train, y_train)\n",
        "\n",
        "#Make predictions using the testing set\n",
        "y_pred = regr.predict(X_test)\n",
        "\n",
        "#The coeffcients\n",
        "print(\"Coefficients:  \", regr.coef_)\n",
        "#The mean squared error\n",
        "print(\"Mean squared error: %.2f\" %mean_squared_error(y_test, y_pred))\n",
        "#The coefficient of determination: 1 is perfect prediction\n",
        "print(\"Coefficient of determination: %.2f\" % r2_score(y_test, y_pred))\n",
        "\n",
        "#Plot outputs\n",
        "#plt.scatter(X_test, y_test, color=\"black\")\n",
        "#plt.plot(X_test, y_pred, color=\"blue\", linewidth=3)\n",
        "\n",
        "#plt.xticks(())\n",
        "#plt.yticks(())\n",
        "\n",
        "#plt.show()"
      ]
    },
    {
      "cell_type": "markdown",
      "source": [
        "3.  Train SVM classifier using the training data and predict the output for the testing\n",
        "data (you may use clf = SVC(kernel=’linear’, random_state=42)\n",
        "clf.fit(X_train, y_train)). What is the accuracy of the model?"
      ],
      "metadata": {
        "id": "armEmnCVRjRj"
      }
    },
    {
      "cell_type": "code",
      "source": [
        "from sklearn import svm\n",
        "\n",
        "clf = SVC(kernel='linear', random_state=42)\n",
        "clf.fit(X_train, y_train)\n",
        "\n",
        "clf_preditions = clf.predict(X_test)\n",
        "print(accuracy_score(clf_preditions, y_test))"
      ],
      "metadata": {
        "colab": {
          "base_uri": "https://localhost:8080/"
        },
        "id": "_p8S2XSARoZL",
        "outputId": "4437a3b7-5e35-4d05-c1d9-113113dae1d6"
      },
      "execution_count": 3,
      "outputs": [
        {
          "output_type": "stream",
          "name": "stdout",
          "text": [
            "0.6\n"
          ]
        }
      ]
    },
    {
      "cell_type": "markdown",
      "source": [
        "4. Plot the training data and SVM decision boundary"
      ],
      "metadata": {
        "id": "_pKOhRJdl7XW"
      }
    },
    {
      "cell_type": "code",
      "source": [],
      "metadata": {
        "id": "qH86Ys6Vl8tA"
      },
      "execution_count": null,
      "outputs": []
    },
    {
      "cell_type": "markdown",
      "source": [
        "5. . Plot the testing data and SVM decision boundary."
      ],
      "metadata": {
        "id": "ztw-x1CVmnf_"
      }
    },
    {
      "cell_type": "code",
      "source": [],
      "metadata": {
        "id": "Vh-1IXydmpUp"
      },
      "execution_count": null,
      "outputs": []
    },
    {
      "cell_type": "markdown",
      "source": [
        "6. Scale training and testing data using standard scaler (see listing 2)."
      ],
      "metadata": {
        "id": "ZAwzma4wmp05"
      }
    },
    {
      "cell_type": "code",
      "source": [
        "import numpy as np\n",
        "import matplotlib.pyplot as plt\n",
        "from sklearn.preprocessing import StandardScaler\n",
        "from sklearn.svm import SVC\n",
        "from sklearn.metrics import accuracy_score\n",
        "\n",
        "scaler = StandardScaler()\n",
        "X_train_scaled = scaler.fit_transform(X_train)\n",
        "X_test_scaled = scaler.transform(X_test)\n"
      ],
      "metadata": {
        "id": "vkeNgniZmwuO"
      },
      "execution_count": 4,
      "outputs": []
    },
    {
      "cell_type": "markdown",
      "source": [
        "7.  Train SVM classifier using scaled training data and predict the output for the scaled testing data (you may use clf2 = SVC(kernel=’linear’, random_state=42) clf2.fit(X_train_scaled, y_train)). What is the accuracy of the model? Do you see accuracy improvement after feature scaling? What is the reason for this?\n"
      ],
      "metadata": {
        "id": "Bq4u66CtE-UY"
      }
    },
    {
      "cell_type": "code",
      "source": [
        "clf = SVC(kernel='linear', random_state=42)\n",
        "clf.fit(X_train_scaled, y_train)\n",
        "\n",
        "clf_preditions = clf.predict(X_test)\n",
        "print(accuracy_score(clf_preditions, y_test))"
      ],
      "metadata": {
        "colab": {
          "base_uri": "https://localhost:8080/"
        },
        "id": "gl5EokhlFDbP",
        "outputId": "377a98b2-65b0-4d10-f0d6-80ea31284a4c"
      },
      "execution_count": 5,
      "outputs": [
        {
          "output_type": "stream",
          "name": "stdout",
          "text": [
            "0.4\n"
          ]
        }
      ]
    },
    {
      "cell_type": "markdown",
      "source": [
        "8.  Plot the training data and SVM decision boundary.\n"
      ],
      "metadata": {
        "id": "Gbrjx9m2FuCD"
      }
    },
    {
      "cell_type": "code",
      "source": [],
      "metadata": {
        "id": "_GESh9qzFx4b"
      },
      "execution_count": null,
      "outputs": []
    },
    {
      "cell_type": "markdown",
      "source": [
        "9. Plot the testing data and SVM decision boundary.\n"
      ],
      "metadata": {
        "id": "R4P8oh3hFyZm"
      }
    },
    {
      "cell_type": "code",
      "source": [],
      "metadata": {
        "id": "yL8lZJq-F17C"
      },
      "execution_count": null,
      "outputs": []
    },
    {
      "cell_type": "markdown",
      "source": [
        "10.  Plot the scaled training data and SVM decision boundary."
      ],
      "metadata": {
        "id": "_hpSElTVF2Wa"
      }
    },
    {
      "cell_type": "code",
      "source": [],
      "metadata": {
        "id": "pK8CfyRnF7qg"
      },
      "execution_count": null,
      "outputs": []
    },
    {
      "cell_type": "markdown",
      "source": [
        "11.  Plot the scaled testing data and SVM decision boundary."
      ],
      "metadata": {
        "id": "5PMJNGThF8Av"
      }
    },
    {
      "cell_type": "code",
      "source": [],
      "metadata": {
        "id": "9XKMPKYRF_jI"
      },
      "execution_count": null,
      "outputs": []
    },
    {
      "cell_type": "markdown",
      "source": [
        "12. Comment on the distance from the support vectors to the decision boundary before and after feature scaling.\n",
        "See SVM implementation using sklearn"
      ],
      "metadata": {
        "id": "u8Uhg5OgF_4-"
      }
    },
    {
      "cell_type": "code",
      "source": [],
      "metadata": {
        "id": "z4RBuoglGFeQ"
      },
      "execution_count": null,
      "outputs": []
    },
    {
      "cell_type": "markdown",
      "source": [
        "13. Load the iris data set using the code given in listing 3\n"
      ],
      "metadata": {
        "id": "zYP0RjTYGFyL"
      }
    },
    {
      "cell_type": "code",
      "source": [],
      "metadata": {
        "id": "0l9G02_AGKXi"
      },
      "execution_count": null,
      "outputs": []
    },
    {
      "cell_type": "markdown",
      "source": [
        "14. Carry out logistic regression on the IRIS dataset selecting only classes virginica and versicolor and feature sepal_length."
      ],
      "metadata": {
        "id": "XdchkFZDGOw2"
      }
    },
    {
      "cell_type": "code",
      "source": [],
      "metadata": {
        "id": "osJKr93ZGRXo"
      },
      "execution_count": null,
      "outputs": []
    },
    {
      "cell_type": "markdown",
      "source": [
        "15.  Carry out kNN Classifier on the IRIS dataset selecting only classes virginica and versicolor and feature sepal_length. Here, consider three k values as k = 2, k = 9 and k = 25."
      ],
      "metadata": {
        "id": "IDxqygDXGRxC"
      }
    },
    {
      "cell_type": "code",
      "source": [],
      "metadata": {
        "id": "T9SR3ScqGXC0"
      },
      "execution_count": null,
      "outputs": []
    },
    {
      "cell_type": "markdown",
      "source": [
        "16. What is the impact of the k value in kNN Classifier for the accuracy of the prediction. Are we able to outperforms logistic regression? If so, what is the reason?"
      ],
      "metadata": {
        "id": "mQxRElIVGXXG"
      }
    },
    {
      "cell_type": "code",
      "source": [],
      "metadata": {
        "id": "nSU1VExnGdKB"
      },
      "execution_count": null,
      "outputs": []
    }
  ]
}